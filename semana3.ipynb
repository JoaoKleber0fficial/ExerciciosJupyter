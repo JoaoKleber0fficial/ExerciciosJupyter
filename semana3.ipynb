{
 "cells": [
  {
   "cell_type": "markdown",
   "id": "988414bf-70e7-42c3-ab4b-4fc7520e81e5",
   "metadata": {},
   "source": [
    "# Estruturas de Repetição - WHILE"
   ]
  },
  {
   "cell_type": "code",
   "execution_count": 10,
   "id": "639f70fb-08a0-45e2-b8b6-45aeb74beb24",
   "metadata": {},
   "outputs": [],
   "source": [
    "from colorama import Fore, Style\n",
    "import numpy as np"
   ]
  },
  {
   "cell_type": "code",
   "execution_count": 6,
   "id": "8ad0df8e-72eb-4793-a3d1-64b1f21cfb31",
   "metadata": {},
   "outputs": [
    {
     "name": "stdout",
     "output_type": "stream",
     "text": [
      "1\n",
      "2\n",
      "3\n",
      "4\n",
      "5\n"
     ]
    }
   ],
   "source": [
    "numero = 1\n",
    "\n",
    "while numero < 6:\n",
    "    print(numero)\n",
    "    numero += 1"
   ]
  },
  {
   "cell_type": "code",
   "execution_count": 2,
   "id": "17b70fa9-916d-4bf7-828f-825eb08b096e",
   "metadata": {},
   "outputs": [
    {
     "name": "stdout",
     "output_type": "stream",
     "text": [
      "5\n",
      "4\n",
      "3\n",
      "2\n",
      "1\n"
     ]
    }
   ],
   "source": [
    "numero = 5\n",
    "\n",
    "while numero > 0:\n",
    "    print(numero)\n",
    "    numero -= 1"
   ]
  },
  {
   "cell_type": "code",
   "execution_count": 4,
   "id": "da5511a4-340e-4c25-839d-833385aed789",
   "metadata": {},
   "outputs": [
    {
     "name": "stdout",
     "output_type": "stream",
     "text": [
      "15\n"
     ]
    }
   ],
   "source": [
    "soma = 0\n",
    "numero = 1\n",
    "\n",
    "while numero < 6:\n",
    "    soma += numero\n",
    "    numero += 1\n",
    "\n",
    "print(soma)"
   ]
  },
  {
   "cell_type": "code",
   "execution_count": 5,
   "id": "a381b775-d733-43a4-b225-817a7f098a20",
   "metadata": {},
   "outputs": [
    {
     "name": "stdin",
     "output_type": "stream",
     "text": [
      "Digite um numero:  10\n",
      "Caso deseje sair da aplicação digite entre 1 e 10:  4\n"
     ]
    }
   ],
   "source": [
    "numero = 12\n",
    "\n",
    "while numero < 1 or numero > 10:\n",
    "    numero = int(input(\"Digite um numero: \"))\n",
    "\n",
    "    pergunta = int(input(\"Caso deseje sair da aplicação digite entre 1 e 10: \"))"
   ]
  },
  {
   "cell_type": "code",
   "execution_count": 7,
   "id": "ab44251a-d8b1-4f75-872b-3e76e8f21a2c",
   "metadata": {},
   "outputs": [
    {
     "data": {
      "text/plain": [
       "{'Joao', 'kayque'}"
      ]
     },
     "execution_count": 7,
     "metadata": {},
     "output_type": "execute_result"
    }
   ],
   "source": [
    "tupla = { 'Joao', 'kayque', 'Joao', 'kayque', 'Joao', }\n",
    "\n",
    "tupla"
   ]
  },
  {
   "cell_type": "code",
   "execution_count": 8,
   "id": "0d56c22d-4f0e-4cd0-bc33-273ad848fd3c",
   "metadata": {},
   "outputs": [],
   "source": [
    "tupla.remove(\"kayque\")"
   ]
  },
  {
   "cell_type": "code",
   "execution_count": 9,
   "id": "b0766fef-e3b0-47b8-a2e8-ea13fcd3a849",
   "metadata": {},
   "outputs": [
    {
     "data": {
      "text/plain": [
       "{'Joao'}"
      ]
     },
     "execution_count": 9,
     "metadata": {},
     "output_type": "execute_result"
    }
   ],
   "source": [
    "tupla"
   ]
  },
  {
   "cell_type": "code",
   "execution_count": 10,
   "id": "71eb849d-1fe0-4a7d-bda1-bd7416efb32d",
   "metadata": {},
   "outputs": [
    {
     "data": {
      "text/plain": [
       "{'Aruane': 27, 'João Kleber': 18, 'Kayque Gay': 18, 'Ricardo Souzas': 18}"
      ]
     },
     "execution_count": 10,
     "metadata": {},
     "output_type": "execute_result"
    }
   ],
   "source": [
    "alunos = { \"Aruane\": 27, \"João Kleber\": 18, \"Kayque Gay\": 18, \"Ricardo Souzas\": 18 }\n",
    "\n",
    "alunos"
   ]
  },
  {
   "cell_type": "code",
   "execution_count": 11,
   "id": "1dda8314-0f68-4408-ad46-52e7d6b9c46b",
   "metadata": {},
   "outputs": [
    {
     "data": {
      "text/plain": [
       "dict_keys(['Aruane', 'João Kleber', 'Kayque Gay', 'Ricardo Souzas'])"
      ]
     },
     "execution_count": 11,
     "metadata": {},
     "output_type": "execute_result"
    }
   ],
   "source": [
    "alunos.keys()"
   ]
  },
  {
   "cell_type": "code",
   "execution_count": 12,
   "id": "9c5bbf8b-194a-4401-b376-2ede5c4ae636",
   "metadata": {},
   "outputs": [
    {
     "data": {
      "text/plain": [
       "dict_values([27, 18, 18, 18])"
      ]
     },
     "execution_count": 12,
     "metadata": {},
     "output_type": "execute_result"
    }
   ],
   "source": [
    "alunos.values()"
   ]
  },
  {
   "cell_type": "code",
   "execution_count": 15,
   "id": "8c2d5ff6-5b86-412b-83c4-b4ed2d360a6b",
   "metadata": {},
   "outputs": [
    {
     "name": "stdout",
     "output_type": "stream",
     "text": [
      "Aruane 27\n",
      "João Kleber 18\n",
      "Kayque Gay 18\n",
      "Ricardo Souzas 18\n"
     ]
    }
   ],
   "source": [
    "for C, V in alunos.items():\n",
    "    print(C, V)"
   ]
  },
  {
   "cell_type": "code",
   "execution_count": 3,
   "id": "8351e9dd-0c2c-406c-9b1e-108b550a8cd4",
   "metadata": {},
   "outputs": [],
   "source": [
    "import numpy as np"
   ]
  },
  {
   "cell_type": "code",
   "execution_count": 4,
   "id": "91b79aba-8000-44ff-8dc6-6ec0cbe703b2",
   "metadata": {},
   "outputs": [],
   "source": [
    "matriz = np.array ([[23,3,1,42],\n",
    "                    [4,53,62,4],\n",
    "                    [4,52,63,4]\n",
    "                   ])\n"
   ]
  },
  {
   "cell_type": "code",
   "execution_count": 18,
   "id": "09d691da-8c47-470d-a79f-1d92f5328a3d",
   "metadata": {},
   "outputs": [
    {
     "data": {
      "text/plain": [
       "array([[2, 3, 1],\n",
       "       [4, 5, 6]])"
      ]
     },
     "execution_count": 18,
     "metadata": {},
     "output_type": "execute_result"
    }
   ],
   "source": [
    "matriz"
   ]
  },
  {
   "cell_type": "code",
   "execution_count": 19,
   "id": "6b607c3e-39b3-4fb4-8d83-70e3acab1f15",
   "metadata": {},
   "outputs": [
    {
     "data": {
      "text/plain": [
       "(2, 3)"
      ]
     },
     "execution_count": 19,
     "metadata": {},
     "output_type": "execute_result"
    }
   ],
   "source": [
    "matriz.shape"
   ]
  },
  {
   "cell_type": "code",
   "execution_count": 118,
   "id": "f6aad50b-fa32-4da9-baab-351d0fd65859",
   "metadata": {},
   "outputs": [
    {
     "name": "stdout",
     "output_type": "stream",
     "text": [
      "\u001b[30mLegal\n"
     ]
    },
    {
     "data": {
      "text/plain": [
       "array([[2, 3, 1],\n",
       "       [4, 5, 6]])"
      ]
     },
     "execution_count": 118,
     "metadata": {},
     "output_type": "execute_result"
    }
   ],
   "source": [
    "\n",
    "\n",
    "print(Fore.BLACK + \"Legal\")\n",
    "\n",
    "matriz"
   ]
  },
  {
   "cell_type": "code",
   "execution_count": 17,
   "id": "30698001-58e2-431e-941b-81e02c685762",
   "metadata": {},
   "outputs": [
    {
     "name": "stdout",
     "output_type": "stream",
     "text": [
      "\u001b[31m23\n",
      "\u001b[31m3\n",
      "\u001b[31m1\n",
      "\u001b[31m42\n",
      "\u001b[31m4\n",
      "\u001b[31m53\n",
      "\u001b[31m62\n",
      "\u001b[31m4\n",
      "\u001b[31m4\n",
      "\u001b[31m52\n",
      "\u001b[31m63\n",
      "\u001b[31m4\n"
     ]
    }
   ],
   "source": [
    "for linha in range(matriz.shape[0]):\n",
    "   for coluna in range(matriz.shape[1]):\n",
    "        print(Fore.RED + f'{matriz[linha][coluna]}')"
   ]
  },
  {
   "cell_type": "code",
   "execution_count": 160,
   "id": "b39b851f-1054-49bd-a0c3-1cd4faa86592",
   "metadata": {},
   "outputs": [
    {
     "name": "stdout",
     "output_type": "stream",
     "text": [
      "Verde = Linha Vermelho = Coluna\n",
      "\u001b[32m0 \u001b[31m0\n",
      "\u001b[32m0 \u001b[31m1\n",
      "\u001b[32m0 \u001b[31m2\n",
      "\u001b[32m0 \u001b[31m3\n",
      "\u001b[32m1 \u001b[31m0\n",
      "\u001b[32m1 \u001b[31m1\n",
      "\u001b[32m1 \u001b[31m2\n",
      "\u001b[32m1 \u001b[31m3\n",
      "\u001b[32m2 \u001b[31m0\n",
      "\u001b[32m2 \u001b[31m1\n",
      "\u001b[32m2 \u001b[31m2\n",
      "\u001b[32m2 \u001b[31m3\n"
     ]
    }
   ],
   "source": [
    "ajuda = 'Verde = Linha'\n",
    "ajuda1 = 'Vermelho = Coluna'\n",
    "\n",
    "print(ajuda, ajuda1)\n",
    "\n",
    "for linha in range(matriz.shape[0]):\n",
    "    for coluna in range(matriz.shape[1]):\n",
    "        print(Fore.GREEN + f'{linha}', Fore.RED + f'{coluna}')"
   ]
  },
  {
   "cell_type": "code",
   "execution_count": 16,
   "id": "760a6440-be4f-4132-a061-36b6ef7b64af",
   "metadata": {},
   "outputs": [
    {
     "name": "stdout",
     "output_type": "stream",
     "text": [
      "\u001b[31m23\n",
      "\u001b[31m4\n",
      "\u001b[31m4\n",
      "\u001b[31m3\n",
      "\u001b[31m53\n",
      "\u001b[31m52\n",
      "\u001b[31m1\n",
      "\u001b[31m62\n",
      "\u001b[31m63\n",
      "\u001b[31m42\n",
      "\u001b[31m4\n",
      "\u001b[31m4\n"
     ]
    }
   ],
   "source": [
    "for coluna in range(matriz.shape[1]):\n",
    "    for linha in range(matriz.shape[0]):\n",
    "        print(Fore.RED + f'{matriz[linha][coluna]}')"
   ]
  },
  {
   "cell_type": "code",
   "execution_count": 18,
   "id": "730a6864-c7bd-4128-85e4-541e52e1fef7",
   "metadata": {},
   "outputs": [
    {
     "name": "stdout",
     "output_type": "stream",
     "text": [
      "[[4 4 4]]\n"
     ]
    }
   ],
   "source": [
    "matriz1 = np.array ([[1,2,3]])\n",
    "matriz2 = np.array ([[3,2,1]])\n",
    "\n",
    "print(matriz1 + matriz2)"
   ]
  }
 ],
 "metadata": {
  "kernelspec": {
   "display_name": "Python 3 (ipykernel)",
   "language": "python",
   "name": "python3"
  },
  "language_info": {
   "codemirror_mode": {
    "name": "ipython",
    "version": 3
   },
   "file_extension": ".py",
   "mimetype": "text/x-python",
   "name": "python",
   "nbconvert_exporter": "python",
   "pygments_lexer": "ipython3",
   "version": "3.12.7"
  }
 },
 "nbformat": 4,
 "nbformat_minor": 5
}
